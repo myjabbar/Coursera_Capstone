{
 "cells": [
  {
   "cell_type": "markdown",
   "metadata": {},
   "source": [
    "<h1 align=center><font size = 6>Identify the best location to open a Grocery Store in Calgary,AB Canada</font></h1>\n",
    "\n",
    "\n",
    "<img src = \"Calgary1.jpg\" width = 800> </a>\n"
   ]
  },
  {
   "cell_type": "markdown",
   "metadata": {},
   "source": [
    "## Capstone Project - The Battle of Neighborhoods"
   ]
  },
  {
   "cell_type": "markdown",
   "metadata": {},
   "source": [
    "##### Data Science IBM Capstone Project"
   ]
  },
  {
   "cell_type": "markdown",
   "metadata": {},
   "source": [
    "##### MuhammadYousuf Jabbar"
   ]
  },
  {
   "cell_type": "markdown",
   "metadata": {},
   "source": [
    "##### Date May 12, 2020"
   ]
  },
  {
   "cell_type": "markdown",
   "metadata": {},
   "source": [
    "## 1. Description of the Problem"
   ]
  },
  {
   "cell_type": "markdown",
   "metadata": {},
   "source": [
    "The energy capital, nature, mountains in addtion to the fourth highest population density makes the city of Calgary an attractive place for a buisness. However for newcomers, immigrants and even people from the Eastern provinces of Canada could be a big challnege to select the best neighbourhood to set up the buisness to have the maximum rate of return specifically in this uncerstain and tough economic times. This study aims to answer most of the questions to select the best neighrbourhood in Calgary to set up spefically a grocery store. The study would use the negihbourhood cordinates, population density in each neighbourhood and four square API to get the existing grocery store in each neighbourhood. The study is designed in particular for an investor who is interested to start up an asian grocery store in Calgary and have not been to Calgary before. It is belived that this study along with the economic analysis would help to optimize the location for the investor. \n"
   ]
  },
  {
   "cell_type": "markdown",
   "metadata": {},
   "source": [
    "## 2. Data utlized for Calgary City"
   ]
  },
  {
   "cell_type": "markdown",
   "metadata": {},
   "source": [
    "The Calgary nieghbourhood data, latitude and longitude and postal code will be scrapped from wikipedia using beautiful soup library. The population density of each neighbourhood will also be extracted from wikipedia and the two tables to be merged.\n",
    "\n",
    "Now that we have built a dataframe of the postal code of each neighborhood along with the  neighborhood name, population density, in order to utilize the Foursquare location data, we need to get the latitude and the longitude coordinates of each neighborhood.\n",
    "\n",
    "For latitute and longitude of metro stations, venues, Geocoder Python package will be utilized to get the geographical coordinates of a given postal code. In order to extract the latitude and logitude for all the neighbourhoods, a while loop will be employed in order to make sure that I get the coordinates for all of Calgary neighborhoods. Machine learning algorithms will be applied including K-Means to cluster the neighbourhood. Then simple 2D plots are generated to see the population density within various neighrbourhood and ranking is done based on the author knowledge to rank the neighbourhood first within each cluster and then on global level to start the buisness.\n",
    "\n",
    "Following information to be used in order to make the buisness decission for the selection of neighbourhood:\n",
    "\n",
    "- Neighbourhood locations and population density (Population/area) for each neighbourhood\n",
    "- Top 100 venues of each neighbourhood and filter the venue data specfically for Grocery store\n",
    "- Data wrangling to arrange the data and drop with a minimum threshold of population density to be uneconomic to start a buisness in any specific neighbourhood\n",
    "- Machine learning algorithm to cluster the neighbourhood\n",
    "- Generate 2D plots for each neighbourhood to understand the best neighbouhood with each cluster and then rank them globally over the entire City of Calgary\n"
   ]
  }
 ],
 "metadata": {
  "kernelspec": {
   "display_name": "Python 3",
   "language": "python",
   "name": "python3"
  },
  "language_info": {
   "codemirror_mode": {
    "name": "ipython",
    "version": 3
   },
   "file_extension": ".py",
   "mimetype": "text/x-python",
   "name": "python",
   "nbconvert_exporter": "python",
   "pygments_lexer": "ipython3",
   "version": "3.7.3"
  }
 },
 "nbformat": 4,
 "nbformat_minor": 2
}
